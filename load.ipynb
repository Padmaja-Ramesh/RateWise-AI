{
 "cells": [
  {
   "cell_type": "code",
   "execution_count": 1,
   "metadata": {},
   "outputs": [
    {
     "name": "stderr",
     "output_type": "stream",
     "text": [
      "/Users/padmajar/opt/anaconda3/envs/rag/lib/python3.10/site-packages/pinecone/data/index.py:1: TqdmWarning: IProgress not found. Please update jupyter and ipywidgets. See https://ipywidgets.readthedocs.io/en/stable/user_install.html\n",
      "  from tqdm.autonotebook import tqdm\n"
     ]
    }
   ],
   "source": [
    "from dotenv import load_dotenv\n",
    "load_dotenv()\n",
    "import os\n",
    "import openai \n",
    "from pinecone import Pinecone, ServerlessSpec"
   ]
  },
  {
   "cell_type": "markdown",
   "metadata": {},
   "source": [
    "\"pinecone configuration setup\""
   ]
  },
  {
   "cell_type": "code",
   "execution_count": 4,
   "metadata": {},
   "outputs": [],
   "source": [
    "pc = Pinecone(api_key=os.getenv(\"PINECONE_API_KEY\"))\n",
    "pc.create_index(name=\"ratewise-rag\", dimension=1024, metric=\"cosine\", spec=ServerlessSpec(cloud=\"aws\",region=\"us-east-1\"))"
   ]
  },
  {
   "cell_type": "markdown",
   "metadata": {},
   "source": [
    "read from the json file"
   ]
  },
  {
   "cell_type": "code",
   "execution_count": 6,
   "metadata": {},
   "outputs": [
    {
     "data": {
      "text/plain": [
       "[{'florist_name': 'Blooming Blossoms',\n",
       "  'stars': 4,\n",
       "  'reviews': [{'client_name': 'Emma Thompson',\n",
       "    'message': 'Beautiful arrangements, but a bit pricey.',\n",
       "    'time_stamp': '2024-08-15T14:30:00Z'}],\n",
       "  'specialist': 'floral arrangement'},\n",
       " {'florist_name': 'Petal Paradise',\n",
       "  'stars': 5,\n",
       "  'reviews': [{'client_name': 'Michael Chen',\n",
       "    'message': 'Absolutely stunning wedding bouquet!',\n",
       "    'time_stamp': '2024-08-10T09:45:00Z'}],\n",
       "  'specialist': 'bouquet'},\n",
       " {'florist_name': 'Green Thumb Florists',\n",
       "  'stars': 3,\n",
       "  'reviews': [{'client_name': 'Sarah Johnson',\n",
       "    'message': \"Decent service, but flowers didn't last long.\",\n",
       "    'time_stamp': '2024-08-05T16:20:00Z'}],\n",
       "  'specialist': 'garland making'},\n",
       " {'florist_name': 'Floral Fantasies',\n",
       "  'stars': 5,\n",
       "  'reviews': [{'client_name': 'David Miller',\n",
       "    'message': 'Exceptional customer service and beautiful flowers!',\n",
       "    'time_stamp': '2024-07-30T11:15:00Z'}],\n",
       "  'specialist': 'floral arrangement'},\n",
       " {'florist_name': 'Rosebud Boutique',\n",
       "  'stars': 4,\n",
       "  'reviews': [{'client_name': 'Lisa Garcia',\n",
       "    'message': 'Lovely roses, but delivery was a bit late.',\n",
       "    'time_stamp': '2024-07-25T13:40:00Z'}],\n",
       "  'specialist': 'bouquet'},\n",
       " {'florist_name': 'Sunshine Petals',\n",
       "  'stars': 5,\n",
       "  'reviews': [{'client_name': 'James Wilson',\n",
       "    'message': 'Incredible garlands for our summer party!',\n",
       "    'time_stamp': '2024-07-20T10:00:00Z'}],\n",
       "  'specialist': 'garland making'},\n",
       " {'florist_name': 'Urban Oasis Flowers',\n",
       "  'stars': 4,\n",
       "  'reviews': [{'client_name': 'Emily Davis',\n",
       "    'message': 'Creative arrangements, slightly overpriced.',\n",
       "    'time_stamp': '2024-07-15T15:30:00Z'}],\n",
       "  'specialist': 'floral arrangement'},\n",
       " {'florist_name': 'Daisy Chain',\n",
       "  'stars': 3,\n",
       "  'reviews': [{'client_name': 'Robert Brown',\n",
       "    'message': 'Average quality, but friendly staff.',\n",
       "    'time_stamp': '2024-07-10T12:20:00Z'}],\n",
       "  'specialist': 'bouquet'},\n",
       " {'florist_name': 'Enchanted Gardens',\n",
       "  'stars': 5,\n",
       "  'reviews': [{'client_name': 'Sophie Taylor',\n",
       "    'message': 'Magical wedding decorations! Highly recommend.',\n",
       "    'time_stamp': '2024-07-05T09:10:00Z'}],\n",
       "  'specialist': 'floral arrangement'},\n",
       " {'florist_name': 'Wildflower Wonders',\n",
       "  'stars': 4,\n",
       "  'reviews': [{'client_name': 'Daniel Lee',\n",
       "    'message': 'Unique bouquets with local wildflowers. Love it!',\n",
       "    'time_stamp': '2024-06-30T14:50:00Z'}],\n",
       "  'specialist': 'bouquet'},\n",
       " {'florist_name': 'Orchid Oasis',\n",
       "  'stars': 5,\n",
       "  'reviews': [{'client_name': 'Olivia Martinez',\n",
       "    'message': 'Stunning orchid arrangements for our office.',\n",
       "    'time_stamp': '2024-06-25T11:30:00Z'}],\n",
       "  'specialist': 'floral arrangement'},\n",
       " {'florist_name': 'Garland Gurus',\n",
       "  'stars': 4,\n",
       "  'reviews': [{'client_name': 'William Turner',\n",
       "    'message': 'Beautiful garlands, but limited flower variety.',\n",
       "    'time_stamp': '2024-06-20T16:40:00Z'}],\n",
       "  'specialist': 'garland making'},\n",
       " {'florist_name': 'Tulip Time',\n",
       "  'stars': 3,\n",
       "  'reviews': [{'client_name': 'Anna Kim',\n",
       "    'message': 'Nice tulips, but customer service needs improvement.',\n",
       "    'time_stamp': '2024-06-15T10:20:00Z'}],\n",
       "  'specialist': 'bouquet'},\n",
       " {'florist_name': 'Lily of the Valley',\n",
       "  'stars': 5,\n",
       "  'reviews': [{'client_name': 'Christopher White',\n",
       "    'message': 'Exquisite arrangements for our anniversary dinner!',\n",
       "    'time_stamp': '2024-06-10T13:15:00Z'}],\n",
       "  'specialist': 'floral arrangement'},\n",
       " {'florist_name': 'Rustic Blooms',\n",
       "  'stars': 4,\n",
       "  'reviews': [{'client_name': 'Rachel Green',\n",
       "    'message': 'Charming bouquets with a rustic touch.',\n",
       "    'time_stamp': '2024-06-05T15:50:00Z'}],\n",
       "  'specialist': 'bouquet'},\n",
       " {'florist_name': 'Exotic Petals',\n",
       "  'stars': 5,\n",
       "  'reviews': [{'client_name': 'Thomas Baker',\n",
       "    'message': 'Impressive selection of rare and exotic flowers!',\n",
       "    'time_stamp': '2024-05-31T09:30:00Z'}],\n",
       "  'specialist': 'floral arrangement'},\n",
       " {'florist_name': 'Seaside Florals',\n",
       "  'stars': 4,\n",
       "  'reviews': [{'client_name': 'Jessica Moore',\n",
       "    'message': 'Beautiful beach-themed arrangements for our wedding.',\n",
       "    'time_stamp': '2024-05-26T12:00:00Z'}],\n",
       "  'specialist': 'bouquet'},\n",
       " {'florist_name': 'Garden of Eden',\n",
       "  'stars': 5,\n",
       "  'reviews': [{'client_name': 'Andrew Clark',\n",
       "    'message': 'Breathtaking floral installations for our event!',\n",
       "    'time_stamp': '2024-05-21T14:10:00Z'}],\n",
       "  'specialist': 'floral arrangement'},\n",
       " {'florist_name': 'Blooming Seasons',\n",
       "  'stars': 4,\n",
       "  'reviews': [{'client_name': 'Megan Wright',\n",
       "    'message': 'Lovely seasonal bouquets, great value for money.',\n",
       "    'time_stamp': '2024-05-16T11:45:00Z'}],\n",
       "  'specialist': 'bouquet'},\n",
       " {'florist_name': 'Floral Fiesta',\n",
       "  'stars': 5,\n",
       "  'reviews': [{'client_name': 'Carlos Rodriguez',\n",
       "    'message': 'Vibrant and festive garlands for our family celebration!',\n",
       "    'time_stamp': '2024-05-11T16:30:00Z'}],\n",
       "  'specialist': 'garland making'}]"
      ]
     },
     "execution_count": 6,
     "metadata": {},
     "output_type": "execute_result"
    }
   ],
   "source": [
    "import json\n",
    "data = json.load(open(\"reviews.json\"));\n",
    "data[\"reviews\"]"
   ]
  }
 ],
 "metadata": {
  "kernelspec": {
   "display_name": "rag",
   "language": "python",
   "name": "python3"
  },
  "language_info": {
   "codemirror_mode": {
    "name": "ipython",
    "version": 3
   },
   "file_extension": ".py",
   "mimetype": "text/x-python",
   "name": "python",
   "nbconvert_exporter": "python",
   "pygments_lexer": "ipython3",
   "version": "3.10.4"
  }
 },
 "nbformat": 4,
 "nbformat_minor": 2
}
